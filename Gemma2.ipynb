{
 "cells": [
  {
   "cell_type": "markdown",
   "id": "fe4ed976-7c93-4ed3-8752-852e505fc3b4",
   "metadata": {},
   "source": [
    "## Scraping from xlsx"
   ]
  },
  {
   "cell_type": "code",
   "execution_count": 1,
   "id": "2bc0c1d1-6f1a-43d1-aca6-e6a65ccab008",
   "metadata": {},
   "outputs": [],
   "source": [
    "import pandas as pd\n",
    "import re\n",
    "import os"
   ]
  },
  {
   "cell_type": "code",
   "execution_count": 2,
   "id": "43a34e31-2a52-49aa-912b-9db7e0c73b3d",
   "metadata": {},
   "outputs": [],
   "source": [
    "# my_df = pd.read_excel(\"Reddit Eng-Vie-{i+1}.xlsx\")\n",
    "\n",
    "my_df = pd.read_excel(\"Reddit Eng-Vie-51.xlsx\")"
   ]
  },
  {
   "cell_type": "code",
   "execution_count": 3,
   "id": "0cb0a232-f836-47bd-b051-063923d6358f",
   "metadata": {},
   "outputs": [],
   "source": [
    "# Extract link - use it to scrape data with Reddit interface\n",
    "def extract_reddit_link(content):\n",
    "    match = re.search(r'Link Reddit:\\s*(\\S*redd\\S*)', content)\n",
    "    return match.group(1) if match else None\n",
    "\n",
    "# Store username with their comment.\n",
    "def extract_content_and_username(content):\n",
    "    pattern = r'u/(\\w+)\\s*\\([^\\)]+\\)\\n(.+?)(?=_{20}|>u/|u/|$)'\n",
    "    match = re.findall(pattern, content, re.DOTALL)\n",
    "    return match"
   ]
  },
  {
   "cell_type": "code",
   "execution_count": 4,
   "id": "faa07461-4401-4956-9993-38678f389ac3",
   "metadata": {},
   "outputs": [],
   "source": [
    "def extract_content_username_links(my_df):\n",
    "    reddit_links = my_df['Vietnamese Content'].apply(extract_reddit_link)\n",
    "\n",
    "    # Applying function to extract usernames and comments\n",
    "    content_username = my_df['Vietnamese Content'].apply(extract_content_and_username)\n",
    "\n",
    "    # Create an empty DataFrame to store the extracted data\n",
    "    extracted_df = pd.DataFrame(columns=['Reddit Link', 'Username', 'Vietnamese Content'])\n",
    "    \n",
    "    # Process each conversation\n",
    "    for con in range(content_username.size):\n",
    "        reddit_link = reddit_links[con]  # Get the Reddit link for the current conversation\n",
    "        conversation = content_username[con]  # Extract the username-content pairs\n",
    "        \n",
    "        # List to store the new rows to add\n",
    "        rows_to_add = []\n",
    "        \n",
    "        # Loop through each username and content pair\n",
    "        for username, content in conversation:\n",
    "            # Add each row as a dictionary\n",
    "            rows_to_add.append({\n",
    "                'Reddit Link': reddit_link,\n",
    "                'Username': username,\n",
    "                'Vietnamese Content': content\n",
    "            })\n",
    "        \n",
    "        # Concatenate the new rows with the existing DataFrame\n",
    "        extracted_df = pd.concat([extracted_df, pd.DataFrame(rows_to_add)], ignore_index=True)\n",
    "\n",
    "    return extracted_df"
   ]
  },
  {
   "cell_type": "code",
   "execution_count": 5,
   "id": "40090584-88d3-44c0-9ab8-7bbba8879d8f",
   "metadata": {},
   "outputs": [],
   "source": [
    "extracted_df = extract_content_username_links(my_df)"
   ]
  },
  {
   "cell_type": "code",
   "execution_count": 6,
   "id": "0c07c69a-1671-4dbb-ba58-99b273163174",
   "metadata": {},
   "outputs": [],
   "source": [
    "extracted_df['English Content'] = None"
   ]
  },
  {
   "cell_type": "markdown",
   "id": "11588cfc-ce27-49e7-a6b5-6b0947de195a",
   "metadata": {},
   "source": [
    "## Scraping from Reddit"
   ]
  },
  {
   "cell_type": "code",
   "execution_count": 7,
   "id": "b0a46420-f95d-4ec2-a5ba-55c443a7dfb3",
   "metadata": {},
   "outputs": [],
   "source": [
    "# Setting up credential environment\n",
    "import praw\n",
    "import csv\n",
    "import time\n",
    "import requests\n",
    "from requests.exceptions import RequestException\n",
    "\n",
    "reddit = praw.Reddit(client_id='uBbBTQDB5F0pFt9QoeHj0Q',\n",
    "                     client_secret='44SLQAtT_1GgQ8at6wS7ioayGzXP2g',\n",
    "                     user_agent='Script by /u/No_Union9101')"
   ]
  },
  {
   "cell_type": "code",
   "execution_count": 8,
   "id": "37f37a59-0f7b-42d8-a3fd-fc45b898c8e2",
   "metadata": {},
   "outputs": [],
   "source": [
    "def scraping_Reddit(url):\n",
    "    # Hash map for add optimized\n",
    "    content_rows = {}\n",
    "    \n",
    "    submission = reddit.submission(url=url)\n",
    "\n",
    "    if submission.author is not None:\n",
    "        # Add the author and post content\n",
    "        if submission.selftext != '':\n",
    "            content_rows[submission.author.name] = [submission.selftext]\n",
    "    \n",
    "    submission.comments.replace_more(limit=300)\n",
    "    \n",
    "    # Add the commenters and their content\n",
    "    for top_level_comment in submission.comments.list():\n",
    "\n",
    "        # Check for empty content or empty body\n",
    "        if top_level_comment.author is None or top_level_comment.body == '':\n",
    "            continue\n",
    "\n",
    "        # Add author to dictionary if they are not included\n",
    "        if top_level_comment.author.name not in content_rows:\n",
    "            content_rows[top_level_comment.author.name] = [top_level_comment.body]\n",
    "        else:\n",
    "            # Append the content to the list of content per user\n",
    "            content_rows[top_level_comment.author.name].append(top_level_comment.body)\n",
    "    \n",
    "    return content_rows"
   ]
  },
  {
   "cell_type": "code",
   "execution_count": 9,
   "id": "2e367702-9b4e-4a15-b868-a6ec8d437a09",
   "metadata": {},
   "outputs": [],
   "source": [
    "# Function to handle 429 errors and retry\n",
    "def handle_429_and_retry(exception, retry_after=300):\n",
    "    if exception.response and exception.response.status_code == 429:\n",
    "        print(f\"Rate limit exceeded. Sleeping for {retry_after} seconds...\")\n",
    "        time.sleep(retry_after)\n",
    "    else:\n",
    "        print(f\"An error occurred: {exception}\")"
   ]
  },
  {
   "cell_type": "code",
   "execution_count": null,
   "id": "176eda78-98c2-4a7a-8ec5-104a8b78c81a",
   "metadata": {},
   "outputs": [
    {
     "name": "stdout",
     "output_type": "stream",
     "text": [
      "Working on it\n",
      "Successfully fetched content for https://redd.it/114eoci\n",
      "Successfully fetched content for https://redd.it/91qmh7\n"
     ]
    }
   ],
   "source": [
    "import time\n",
    "from requests.exceptions import RequestException\n",
    "\n",
    "current_link = extracted_df.loc[0][\"Reddit Link\"]\n",
    "\n",
    "# Fetch Reddit content\n",
    "try:\n",
    "    content_rows = scraping_Reddit(current_link)\n",
    "    print(\"Working on it\")\n",
    "\n",
    "    for index, row in extracted_df.iterrows():\n",
    "        # Extract the data information from the dataframe\n",
    "        link = row[\"Reddit Link\"].replace(\" \", \"\")\n",
    "        username = row[\"Username\"]\n",
    "        content = row[\"Vietnamese Content\"]\n",
    "\n",
    "        if not link:  # Skip if link is None or empty\n",
    "            continue\n",
    "\n",
    "        # Fetch content if the link changes\n",
    "        if current_link != link:\n",
    "            current_link = link\n",
    "            try:\n",
    "                content_rows = scraping_Reddit(current_link)\n",
    "                print(f\"Successfully fetched content for {link}\")\n",
    "            except RequestException as re:\n",
    "                handle_429_and_retry(re)\n",
    "\n",
    "        # Match the username and assign English content\n",
    "        if username in content_rows:\n",
    "            extracted_df.at[index, 'English Content'] = content_rows[username]\n",
    "\n",
    "except TypeError as te:\n",
    "    print(f\"Type Error occurred: {te}\")\n",
    "\n",
    "except RequestException as re:\n",
    "    handle_429_and_retry(re)\n",
    "\n",
    "except Exception as e:\n",
    "    print(f\"Unexpected error: {e}\")\n"
   ]
  },
  {
   "cell_type": "code",
   "execution_count": null,
   "id": "55ac65dd-0611-4865-a3f3-741a071cb0ae",
   "metadata": {},
   "outputs": [],
   "source": [
    "extracted_df.head(50)"
   ]
  },
  {
   "cell_type": "code",
   "execution_count": null,
   "id": "8a8ada22-9a83-47c4-85db-2b05a505d029",
   "metadata": {},
   "outputs": [],
   "source": [
    "extracted_df.dropna()"
   ]
  },
  {
   "cell_type": "code",
   "execution_count": null,
   "id": "011227d2-e03c-45ae-aea5-3ce7c4533a60",
   "metadata": {},
   "outputs": [],
   "source": [
    "extracted_df.to_excel(\"matched_content51.xlsx\")"
   ]
  },
  {
   "cell_type": "code",
   "execution_count": null,
   "id": "003631a0-1f86-4249-96a4-10a878241e60",
   "metadata": {},
   "outputs": [],
   "source": []
  }
 ],
 "metadata": {
  "kernelspec": {
   "display_name": "Python 3 (ipykernel)",
   "language": "python",
   "name": "python3"
  },
  "language_info": {
   "codemirror_mode": {
    "name": "ipython",
    "version": 3
   },
   "file_extension": ".py",
   "mimetype": "text/x-python",
   "name": "python",
   "nbconvert_exporter": "python",
   "pygments_lexer": "ipython3",
   "version": "3.11.6"
  }
 },
 "nbformat": 4,
 "nbformat_minor": 5
}
